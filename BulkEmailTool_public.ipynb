{
  "nbformat": 4,
  "nbformat_minor": 0,
  "metadata": {
    "colab": {
      "name": "BulkEmailTool_public.ipynb",
      "provenance": [],
      "collapsed_sections": [],
      "authorship_tag": "ABX9TyMXCdk2ZawNrGR1bgkC1ZGi",
      "include_colab_link": true
    },
    "kernelspec": {
      "name": "python3",
      "display_name": "Python 3"
    },
    "language_info": {
      "name": "python"
    }
  },
  "cells": [
    {
      "cell_type": "markdown",
      "metadata": {
        "id": "view-in-github",
        "colab_type": "text"
      },
      "source": [
        "<a href=\"https://colab.research.google.com/github/kgautam2103/Bulk_Email_tool_public/blob/main/BulkEmailTool_public.ipynb\" target=\"_parent\"><img src=\"https://colab.research.google.com/assets/colab-badge.svg\" alt=\"Open In Colab\"/></a>"
      ]
    },
    {
      "cell_type": "code",
      "metadata": {
        "id": "1_2Q1sjLBsV9"
      },
      "source": [
        "# when you run this code, you will get a link below\n",
        "#Follow the link, copy the code, paste it in the box and then press Enter on the keyboard.\n",
        "#This will authenticate you and will allow you to interact with Google Sheets and other Google apps in your notebook.\n",
        "from google.colab import auth\n",
        "auth.authenticate_user()\n",
        "import gspread\n",
        "from oauth2client.client import GoogleCredentials\n",
        "gc = gspread.authorize(GoogleCredentials.get_application_default())"
      ],
      "execution_count": null,
      "outputs": []
    },
    {
      "cell_type": "code",
      "metadata": {
        "id": "qDcxqn9EIAa8",
        "colab": {
          "base_uri": "https://localhost:8080/"
        },
        "outputId": "1dff345a-a228-4bbc-f0e8-13ecd53f202f"
      },
      "source": [
        "# Import Python Packages\n",
        "import smtplib\n",
        "from email.mime.multipart import MIMEMultipart\n",
        "from email.mime.text import MIMEText\n",
        "from email.mime.base import MIMEBase\n",
        "from email import encoders\n",
        "import pandas as pd\n",
        "import time\n",
        "import base64\n",
        "from datetime import datetime\n",
        "#from google.colab import files\n",
        "\n",
        "# Set Global Variables\n",
        "current_ts = datetime.now().strftime('%Y%m%d%H%M%S')\n",
        "output_sheet = current_ts+'_email_output'\n",
        "gmail_user = ''\n",
        "gmail_password_encoded = ''\n",
        "is_attachment=input('Attachment needed ? Enter true or false: ').lower()\n",
        "if is_attachment == 'true':\n",
        "  attached_file_name_with_path = input('enter the path along with attachment name like /content/MeditationGuide.pdf : ')\n",
        "  last_index_slash = max(index for index, item in enumerate(attached_file_name_with_path) if item == '/')\n",
        "  attached_file_name = attached_file_name_with_path[last_index_slash+1:]\n",
        "\n",
        "counter = 1\n",
        "\n",
        "base64_bytes = gmail_password_encoded.encode(\"ascii\")  \n",
        "pswd_string_bytes = base64.b64decode(base64_bytes)\n",
        "gmail_password = pswd_string_bytes.decode(\"ascii\")\n",
        "\n",
        "#server = smtplib.SMTP_SSL('smtp.gmail.com', 465)\n",
        "server = smtplib.SMTP('smtp.gmail.com', 587)\n",
        "server.starttls()\n",
        "server.login(gmail_user, gmail_password)\n",
        "input_ws=input('please enter inputdata or sampledata: ')\n",
        "#input_ws = 'sampledata'\n",
        "\n",
        "wb = gc.open_by_url('https://docs.google.com/spreadsheets/d/1E_chz7BaaiBDjDSn_x2IKt1UocXJbUVOqc_Fx52uoTY/edit#gid=0')\n",
        "\n",
        "input_sheet = wb.worksheet(input_ws)\n",
        "inputdata = input_sheet.get_all_values()\n",
        "inputdata_df = pd.DataFrame(inputdata, columns=['email','name','subject','message','regards','greeting'])\n",
        "inputdata_df = inputdata_df.drop(inputdata_df.index[0])\n",
        "\n",
        "sh = gc.create(output_sheet)\n",
        "output_sheet = gc.open(output_sheet).sheet1\n",
        "\n",
        "output_sheet.insert_row(['email_id','name', 'email_sent','error'],1)\n",
        "\n",
        "#attach_file_name = '/content/MeditationGuide.pdf'\n",
        "#attach_file = open(attach_file_name, 'rb') # Open the file as binary mode\n",
        "#attach_file=files.upload()\n",
        "\n",
        "\n",
        "for index, row in inputdata_df.iterrows():\n",
        "  counter = counter+1\n",
        "  from_email = gmail_user\n",
        "  to_email = str(row['email'])\n",
        "  email_subject = str(row['subject'])\n",
        "  email_name = str(row['name'])\n",
        "  email_greet = str(row['greeting'])+\" \"+email_name+\",\"\n",
        "  email_message_body = str(row['message'])\n",
        "  email_regards = str(row['regards'])\n",
        "  email_success = ''\n",
        "  email_error = ''\n",
        "\n",
        "  email_message = '''\n",
        "  %s\n",
        "\n",
        "  %s\n",
        "\n",
        "  Regards,\n",
        "  %s\n",
        "  ''' % (email_greet, email_message_body, email_regards) \n",
        "\n",
        "  #print(email_message)\n",
        "\n",
        "  msg = MIMEMultipart()\n",
        "  # setup the parameters of the message\n",
        "  msg['From']=from_email\n",
        "  msg['To']=to_email\n",
        "  msg['Subject']=email_subject\n",
        "\n",
        "  # add in the message body\n",
        "  msg.attach(MIMEText(email_message, 'plain'))\n",
        "\n",
        "  #add attachment\n",
        "  if is_attachment == 'true':\n",
        "    #attach_file_name = '/content/MeditationGuide.pdf'\n",
        "    attach_file = open(attached_file_name_with_path, 'rb') # Open the file as binary mode\n",
        "    payload = MIMEBase('application', 'octate-stream')\n",
        "    payload.set_payload((attach_file).read())\n",
        "    encoders.encode_base64(payload) #encode the attachment\n",
        "    #add payload header with filename\n",
        "    payload.add_header('content-disposition', 'attachment', filename=attached_file_name)\n",
        "    msg.attach(payload)\n",
        "\n",
        "  try:\n",
        "    # Sent Email  \n",
        "    server.send_message(msg)\n",
        "    time.sleep(3)\n",
        "  except Exception as e:\n",
        "    email_success = 'False'\n",
        "    email_error = str(e)\n",
        "    print(e)\n",
        "  else:\n",
        "    email_success = 'True'\n",
        "  finally:\n",
        "    cell_value_list = [to_email,email_name,email_success,email_error]\n",
        "    output_sheet.insert_row(cell_value_list,counter)\n",
        "\n",
        "  del msg\n",
        "\n",
        "server.close()"
      ],
      "execution_count": null,
      "outputs": [
        {
          "name": "stdout",
          "output_type": "stream",
          "text": [
            "Attachment needed ? Enter true or false: false\n",
            "please enter inputdata or sampledata: inputdata\n"
          ]
        }
      ]
    },
    {
      "cell_type": "code",
      "metadata": {
        "colab": {
          "base_uri": "https://localhost:8080/",
          "height": 35
        },
        "id": "hD9Ug9vDp7j1",
        "outputId": "1fa661f3-409d-4dd8-bc62-f0d82e633c70"
      },
      "source": [
        "import base64\n",
        "  \n",
        "sample_string = \"\"\n",
        "sample_string_bytes = sample_string.encode(\"ascii\")\n",
        "  \n",
        "base64_bytes = base64.b64encode(sample_string_bytes)\n",
        "base64_string = base64_bytes.decode(\"ascii\")\n",
        "\n",
        "base64_string"
      ],
      "execution_count": null,
      "outputs": [
        {
          "output_type": "execute_result",
          "data": {
            "application/vnd.google.colaboratory.intrinsic+json": {
              "type": "string"
            },
            "text/plain": [
              "'bmlybWFsQDIxMDM='"
            ]
          },
          "metadata": {
            "tags": []
          },
          "execution_count": 35
        }
      ]
    }
  ]
}