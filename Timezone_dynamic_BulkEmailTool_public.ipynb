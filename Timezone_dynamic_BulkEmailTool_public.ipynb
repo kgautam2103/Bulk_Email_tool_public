{
  "nbformat": 4,
  "nbformat_minor": 0,
  "metadata": {
    "colab": {
      "name": "Timezone_dynamic_BulkEmailTool_public.ipynb",
      "provenance": [],
      "collapsed_sections": [],
      "authorship_tag": "ABX9TyN0AWVKTetwbXVrd5/glU2H",
      "include_colab_link": true
    },
    "kernelspec": {
      "name": "python3",
      "display_name": "Python 3"
    },
    "language_info": {
      "name": "python"
    }
  },
  "cells": [
    {
      "cell_type": "markdown",
      "metadata": {
        "id": "view-in-github",
        "colab_type": "text"
      },
      "source": [
        "<a href=\"https://colab.research.google.com/github/kgautam2103/Bulk_Email_tool_public/blob/main/Timezone_dynamic_BulkEmailTool_public.ipynb\" target=\"_parent\"><img src=\"https://colab.research.google.com/assets/colab-badge.svg\" alt=\"Open In Colab\"/></a>"
      ]
    },
    {
      "cell_type": "code",
      "metadata": {
        "id": "t8EQUgoY4A1X"
      },
      "source": [
        "# when you run this code, you will get a link below\n",
        "#Follow the link, copy the code, paste it in the box and then press Enter on the keyboard.\n",
        "#This will authenticate you and will allow you to interact with Google Sheets and other Google apps in your notebook.\n",
        "from google.colab import auth\n",
        "auth.authenticate_user()\n",
        "import gspread\n",
        "from oauth2client.client import GoogleCredentials\n",
        "gc = gspread.authorize(GoogleCredentials.get_application_default())"
      ],
      "execution_count": null,
      "outputs": []
    },
    {
      "cell_type": "code",
      "metadata": {
        "colab": {
          "base_uri": "https://localhost:8080/"
        },
        "id": "KEtten3L5cEg",
        "outputId": "93e9ccb2-f2d6-488f-ebc9-ab0409afad39"
      },
      "source": [
        "import pytz\n",
        "from datetime import datetime\n",
        "from  pytz import timezone\n",
        "\n",
        "output_format = (\"%A, %B %d, %Y, %I:%M %p\")\n",
        "apac_EST = input(\"enter the apac time for EST like 2021-10-03 21:45 : \")\n",
        "date_apac_EST = datetime.strptime(apac_EST, '%Y-%m-%d %H:%M')\n",
        "naol_EST = input(\"enter the Naol time for EST like 2021-10-03 09:45 : \")\n",
        "date_naol_EST = datetime.strptime(naol_EST, '%Y-%m-%d %H:%M')\n",
        "#date_apac_EST = datetime.strptime(apac_EST, '%A, %B %d, %Y, %H:%M:%S')\n",
        "est_timezone = pytz.timezone(\"America/New_York\")\n",
        "date_apac_EST_TZ = est_timezone.localize(date_apac_EST)\n",
        "date_naol_EST_TZ = est_timezone.localize(date_naol_EST)\n",
        "print(date_apac_EST_TZ)\n",
        "print(date_naol_EST_TZ)\n",
        "\n",
        "\n",
        "apac = ['Australia/Adelaide','Australia/Sydney','Australia/Perth','Asia/Shanghai','Asia/Tokyo','Asia/Bangkok','Asia/Kuala_Lumpur',\n",
        "        'Asia/Manila','Asia/Singapore','Asia/Jakarta','Asia/Seoul']\n",
        "naol= ['Europe/London','Europe/Rome']\n",
        "apac_naol = ['America/New_York','America/Chicago','America/Denver','America/Los_Angeles','America/Halifax','Asia/Kolkata']"
      ],
      "execution_count": null,
      "outputs": [
        {
          "output_type": "stream",
          "name": "stdout",
          "text": [
            "enter the apac time for EST like 2021-10-03 21:45 : 2021-12-26 21:45\n",
            "enter the Naol time for EST like 2021-10-03 09:45 : 2021-12-26 09:45\n",
            "2021-12-26 21:45:00-05:00\n",
            "2021-12-26 09:45:00-05:00\n"
          ]
        }
      ]
    },
    {
      "cell_type": "code",
      "metadata": {
        "colab": {
          "base_uri": "https://localhost:8080/"
        },
        "id": "MxzogyuQ4GuZ",
        "outputId": "6244b669-86c3-4c5c-acb4-7dd7aff27e72"
      },
      "source": [
        "# Import Python Packages\n",
        "import smtplib\n",
        "from email.mime.multipart import MIMEMultipart\n",
        "from email.mime.text import MIMEText\n",
        "from email.mime.base import MIMEBase\n",
        "from email import encoders\n",
        "import pandas as pd\n",
        "import time\n",
        "import base64\n",
        "from datetime import datetime\n",
        "from email.message import EmailMessage\n",
        "from email.utils import make_msgid\n",
        "#from google.colab import files\n",
        "\n",
        "# Set Global Variables\n",
        "current_ts = datetime.now().strftime('%Y%m%d%H%M%S')\n",
        "output_sheet = current_ts+'_email_output'\n",
        "gmail_user = ''\n",
        "gmail_password_encoded = ''\n",
        "\n",
        "apac_link = \"https://calendar.google.com/event?action=TEMPLATE&tmeid=MmhvaHM4NGpiOWdxb25kNjdnNDg2NnR2NjhfMjAyMTEwMTBUMDE0NTAwWiBwdnRoN2UzMzRobzk2MHJjdGVnaGYybWQ2c0Bn&tmsrc=pvth7e334ho960rcteghf2md6s%40group.calendar.google.com&scp=ALL\"\n",
        "naol_link = \"https://calendar.google.com/event?action=TEMPLATE&tmeid=MHZmYXJuOHVicHRxcTNjbHZlcjZhOTJiZ3FfMjAyMTEwMTBUMTM0NTAwWiBwdnRoN2UzMzRobzk2MHJjdGVnaGYybWQ2c0Bn&tmsrc=pvth7e334ho960rcteghf2md6s%40group.calendar.google.com&scp=ALL\"\n",
        "\n",
        "is_embed_image=input('embed image needed ? Enter true or false: ').lower()\n",
        "if is_embed_image == 'true':\n",
        "    image_name = input('please enter image name like chakra.jpeg or chakra.jpg : ')\n",
        "\n",
        "is_attachment=input('Attachment needed ? Enter true or false: ').lower()\n",
        "if is_attachment == 'true':\n",
        "  attached_file_name_with_path = input('enter the path along with attachment name like /content/MeditationGuide.pdf : ')\n",
        "  last_index_slash = max(index for index, item in enumerate(attached_file_name_with_path) if item == '/')\n",
        "  attached_file_name = attached_file_name_with_path[last_index_slash+1:]\n",
        "\n",
        "counter = 1\n",
        "\n",
        "base64_bytes = gmail_password_encoded.encode(\"ascii\")  \n",
        "pswd_string_bytes = base64.b64decode(base64_bytes)\n",
        "gmail_password = pswd_string_bytes.decode(\"ascii\")\n",
        "\n",
        "#server = smtplib.SMTP_SSL('smtp.gmail.com', 465)\n",
        "server = smtplib.SMTP('smtp.gmail.com', 587)\n",
        "server.starttls()\n",
        "server.login(gmail_user, gmail_password)\n",
        "input_ws=input('please enter inputdata or sampledata: ')\n",
        "#input_ws = 'sampledata'\n",
        "\n",
        "wb = gc.open_by_url('https://docs.google.com/spreadsheets/d/1wSD-KgIqSbedwn2t8on9ovI6g_K6ZciktwfhB81T8rk/edit#gid=0')\n",
        "\n",
        "input_sheet = wb.worksheet(input_ws)\n",
        "inputdata = input_sheet.get_all_values()\n",
        "inputdata_df = pd.DataFrame(inputdata, columns=['email','name','timezone','subject','message','regards','greeting'])\n",
        "inputdata_df = inputdata_df.drop(inputdata_df.index[0])\n",
        "\n",
        "sh = gc.create(output_sheet)\n",
        "output_sheet = gc.open(output_sheet).sheet1\n",
        "\n",
        "output_sheet.insert_row(['email_id','name', 'email_sent','error'],1)\n",
        "\n",
        "#attach_file_name = '/content/MeditationGuide.pdf'\n",
        "#attach_file = open(attach_file_name, 'rb') # Open the file as binary mode\n",
        "#attach_file=files.upload()\n",
        "\n",
        "\n",
        "for index, row in inputdata_df.iterrows():\n",
        "  counter = counter+1\n",
        "  from_email = gmail_user\n",
        "  to_email = str(row['email'])\n",
        "  email_subject = str(row['subject'])\n",
        "  email_name = str(row['name'])\n",
        "  email_tz = str(row['timezone']).strip()\n",
        "  email_greet = str(row['greeting'])+\" \"+email_name+\",\"\n",
        "  email_message_body = str(row['message'])\n",
        "  email_regards = str(row['regards'])\n",
        "  email_success = ''\n",
        "  email_error = ''\n",
        "  event_link_string= \"Please click and save below calendar event for Meditation event reminders\"\n",
        "\n",
        "\n",
        "  date_apac_TZ = date_apac_EST_TZ.astimezone(timezone(email_tz))\n",
        "  date_str_apac_TZ = date_apac_TZ.strftime(output_format)\n",
        "  date_naol_TZ = date_naol_EST_TZ.astimezone(timezone(email_tz))\n",
        "  date_str_naol_TZ = date_naol_TZ.strftime(output_format)\n",
        "\n",
        "  both_str_TZ = date_str_apac_TZ+\" and \"+date_str_naol_TZ\n",
        "\n",
        "  if email_tz in apac:\n",
        "    final_replace = date_str_apac_TZ\n",
        "    final_link = date_str_apac_TZ+\"\\n\"+apac_link\n",
        "  elif email_tz in naol:\n",
        "    final_replace = date_str_naol_TZ\n",
        "    final_link = date_str_naol_TZ+\"\\n\"+naol_link\n",
        "  elif email_tz in apac_naol:\n",
        "    final_replace = both_str_TZ\n",
        "    final_link = date_str_apac_TZ+\"\\n\"+apac_link+\"\\n\\n\"+date_str_naol_TZ+\"\\n\"+naol_link\n",
        "\n",
        "  email_subject = email_subject.replace('tm_replace',final_replace)\n",
        "  email_message_body = email_message_body.replace('tm_replace',final_replace)\n",
        "  email_message = '''\n",
        "  %s\n",
        "  <br><br>\n",
        "  %s\n",
        "  <br>\n",
        "  %s\n",
        "  <br>\n",
        "  %s\n",
        "  <br><br>\n",
        "  Regards,\n",
        "  <br>\n",
        "  %s\n",
        "  ''' % (email_greet, email_message_body, event_link_string, final_link, email_regards) \n",
        "\n",
        "  #print(email_message)\n",
        "\n",
        "  #msg = MIMEMultipart()\n",
        "  msg = EmailMessage()\n",
        "  # setup the parameters of the message\n",
        "  msg['From']=from_email\n",
        "  msg['To']=to_email\n",
        "  msg['Subject']=email_subject\n",
        "\n",
        "  # add in the message body\n",
        "  #msg.attach(MIMEText(email_message, 'plain'))\n",
        "  msg.set_content(email_message,'html')\n",
        "\n",
        "\n",
        "  if is_embed_image == 'true':\n",
        "    #image_name = input('please enter image name like chakra.jpeg or chakra.jpg')\n",
        "    unique_msg_id = make_msgid()\n",
        "    message_body = \"\"\"\n",
        "        %s\n",
        "        <br><br>\n",
        "        %s\n",
        "        <br>\n",
        "        %s\n",
        "        <br>\n",
        "        %s\n",
        "        <br>\n",
        "        <img src=\"cid:%s\" width=\"320\" height=\"240\" />\n",
        "        <br><br><br>\n",
        "        Regards,\n",
        "        <br>\n",
        "        %s\n",
        "      </body>\n",
        "    </html>\n",
        "    \"\"\"% (email_greet, email_message_body, event_link_string, final_link, unique_msg_id[1:-1],email_regards)\n",
        "    msg.add_alternative(message_body, subtype='html')\n",
        "\n",
        "    with open(image_name, 'rb') as img:\n",
        "        msg.get_payload()[1].add_related(img.read(), 'image', 'jpeg',\n",
        "                                        cid=unique_msg_id)\n",
        "        \n",
        "  #add attachment\n",
        "  if is_attachment == 'true':\n",
        "    #attach_file_name = '/content/MeditationGuide.pdf'\n",
        "    attach_file = open(attached_file_name_with_path, 'rb') # Open the file as binary mode\n",
        "    payload = MIMEBase('application', 'octate-stream')\n",
        "    payload.set_payload((attach_file).read())\n",
        "    encoders.encode_base64(payload) #encode the attachment\n",
        "    #add payload header with filename\n",
        "    payload.add_header('content-disposition', 'attachment', filename=attached_file_name)\n",
        "    msg.attach(payload)\n",
        "\n",
        "  try:\n",
        "    # Sent Email  \n",
        "    server.send_message(msg)\n",
        "    #time.sleep(3)\n",
        "  except Exception as e:\n",
        "    email_success = 'False'\n",
        "    email_error = str(e)\n",
        "    print(e)\n",
        "  else:\n",
        "    email_success = 'True'\n",
        "  finally:\n",
        "    cell_value_list = [to_email,email_name,email_success,email_error]\n",
        "    output_sheet.insert_row(cell_value_list,counter)\n",
        "\n",
        "  del msg\n",
        "\n",
        "server.close()"
      ],
      "execution_count": null,
      "outputs": [
        {
          "name": "stdout",
          "output_type": "stream",
          "text": [
            "embed image needed ? Enter true or false: true\n",
            "please enter image name like chakra.jpeg or chakra.jpg : 1.jpeg\n",
            "Attachment needed ? Enter true or false: true\n",
            "enter the path along with attachment name like /content/MeditationGuide.pdf : /content/dmv.pdf\n",
            "please enter inputdata or sampledata: sampledata\n"
          ]
        }
      ]
    },
    {
      "cell_type": "code",
      "metadata": {
        "id": "I822PaWE4JXC"
      },
      "source": [
        "import base64\n",
        "  \n",
        "sample_string = \"\"\n",
        "sample_string_bytes = sample_string.encode(\"ascii\")\n",
        "  \n",
        "base64_bytes = base64.b64encode(sample_string_bytes)\n",
        "base64_string = base64_bytes.decode(\"ascii\")\n",
        "\n",
        "base64_string"
      ],
      "execution_count": null,
      "outputs": []
    },
    {
      "cell_type": "code",
      "metadata": {
        "colab": {
          "base_uri": "https://localhost:8080/"
        },
        "id": "gxKEfdP9YeAc",
        "outputId": "654f1ce1-8634-4539-9f32-1c0f863f6a64"
      },
      "source": [
        "print(row)"
      ],
      "execution_count": null,
      "outputs": [
        {
          "output_type": "stream",
          "name": "stdout",
          "text": [
            "email              \n",
            "name               \n",
            "timezone           \n",
            "subject            \n",
            "message            \n",
            "regards     SY Team\n",
            "greeting       Dear\n",
            "Name: 2, dtype: object\n"
          ]
        }
      ]
    }
  ]
}